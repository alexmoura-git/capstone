{
 "cells": [
  {
   "cell_type": "code",
   "execution_count": 23,
   "metadata": {},
   "outputs": [
    {
     "name": "stderr",
     "output_type": "stream",
     "text": [
      "/var/folders/bj/6vmxzyc10bl0w0z6d16ghc9c0000gn/T/ipykernel_22286/2076504603.py:23: UserWarning: CRS mismatch between the CRS of left geometries and the CRS of right geometries.\n",
      "Use `to_crs()` to reproject one of the input geometries to match the CRS of the other.\n",
      "\n",
      "Left CRS: EPSG:4326\n",
      "Right CRS: EPSG:4979\n",
      "\n",
      "  joined_data = gpd.sjoin(latlong_gdf, neighborhoods, how=\"left\", predicate=\"within\")\n"
     ]
    }
   ],
   "source": [
    "#Code to join the geojason data with the zipcode information data\n",
    "\n",
    "\n",
    "import geopandas as gpd\n",
    "from shapely.geometry import Point\n",
    "import pandas as pd\n",
    "from config import *\n",
    "\n",
    "def tag_neighborhoods(list_of_cities, include_na=True):\n",
    "    # Read the zip code file\n",
    "    uszips_data = pd.read_csv(f'data/city_stats/uszips.csv.gz')\n",
    "\n",
    "    # Add columns for neighborhood and city\n",
    "    uszips_data['neighborhood'] = pd.NA\n",
    "    uszips_data['city_file'] = pd.NA\n",
    "\n",
    "    for city in list_of_cities:\n",
    "        # Load GeoJSON\n",
    "        neighborhoods = gpd.read_file(f'data/{city}/neighbourhoods.geojson')\n",
    "\n",
    "        # Convert latitude-longitude \n",
    "        geometry = [Point(xy) for xy in zip(uszips_data.lng, uszips_data.lat)]\n",
    "        latlong_gdf = gpd.GeoDataFrame(uszips_data, crs=\"EPSG:4326\", geometry=geometry)\n",
    "\n",
    "        # Perform the spatial join\n",
    "        joined_data = gpd.sjoin(latlong_gdf, neighborhoods, how=\"left\", predicate=\"within\")\n",
    "\n",
    "        # Update neighborhood column\n",
    "        uszips_data['neighborhood'] = uszips_data['neighborhood'].combine_first(joined_data['neighbourhood'])\n",
    "\n",
    "        # Update the city_file column \n",
    "        matched_indices = joined_data.index[joined_data['neighbourhood'].notna()]\n",
    "        uszips_data.loc[matched_indices, 'city_file'] = city\n",
    "\n",
    "\n",
    "    if not include_na:\n",
    "        uszips_data = uszips_data.dropna(subset=['neighborhood'])\n",
    "\n",
    "    return uszips_data\n",
    "\n",
    "\n",
    "# Run function and save to csv in the app folder\n",
    "df = tag_neighborhoods(list_of_cities, include_na=False)\n",
    "df.to_csv(\"app/uszip_augmented_filtered.csv\", index=False)"
   ]
  },
  {
   "cell_type": "code",
   "execution_count": null,
   "metadata": {},
   "outputs": [],
   "source": []
  }
 ],
 "metadata": {
  "hide_input": false,
  "kernelspec": {
   "display_name": "Python 3",
   "language": "python",
   "name": "python3"
  },
  "language_info": {
   "codemirror_mode": {
    "name": "ipython",
    "version": 3
   },
   "file_extension": ".py",
   "mimetype": "text/x-python",
   "name": "python",
   "nbconvert_exporter": "python",
   "pygments_lexer": "ipython3",
   "version": "3.9.6"
  },
  "varInspector": {
   "cols": {
    "lenName": 16,
    "lenType": 16,
    "lenVar": 40
   },
   "kernels_config": {
    "python": {
     "delete_cmd_postfix": "",
     "delete_cmd_prefix": "del ",
     "library": "var_list.py",
     "varRefreshCmd": "print(var_dic_list())"
    },
    "r": {
     "delete_cmd_postfix": ") ",
     "delete_cmd_prefix": "rm(",
     "library": "var_list.r",
     "varRefreshCmd": "cat(var_dic_list()) "
    }
   },
   "types_to_exclude": [
    "module",
    "function",
    "builtin_function_or_method",
    "instance",
    "_Feature"
   ],
   "window_display": false
  }
 },
 "nbformat": 4,
 "nbformat_minor": 2
}
