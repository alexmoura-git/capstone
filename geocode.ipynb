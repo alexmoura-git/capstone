{
 "cells": [
  {
   "cell_type": "code",
   "execution_count": 20,
   "metadata": {},
   "outputs": [
    {
     "name": "stdout",
     "output_type": "stream",
     "text": [
      "Columns in neighborhoods GeoDataFrame: Index(['neighbourhood', 'neighbourhood_group', 'geometry'], dtype='object')\n"
     ]
    },
    {
     "name": "stderr",
     "output_type": "stream",
     "text": [
      "/var/folders/bj/6vmxzyc10bl0w0z6d16ghc9c0000gn/T/ipykernel_6656/2430036244.py:34: DtypeWarning: Columns (90) have mixed types. Specify dtype option on import or set low_memory=False.\n",
      "  for chunk in pd.read_csv('data/city_stats/uszips.csv.gz', chunksize=chunksize):\n"
     ]
    }
   ],
   "source": [
    "import geopandas as gpd\n",
    "from shapely.geometry import Point\n",
    "import pandas as pd\n",
    "\n",
    "\n",
    "list_of_cities = ['seattle',  'miami']\n",
    "\n",
    "# Load neighborhood polygons from GeoJSON\n",
    "neighborhoods = gpd.read_file('data/seattle/neighbourhoods.geojson')\n",
    "\n",
    "# Check the column names in neighborhoods GeoDataFrame\n",
    "print(\"Columns in neighborhoods GeoDataFrame:\", neighborhoods.columns)\n",
    "\n",
    "# Identify the column that contains neighborhood names\n",
    "# For example, if the column name is 'neighborhood'\n",
    "neighborhood_name_column = 'neighbourhood'  \n",
    "\n",
    "# Define a function to process each chunk\n",
    "def process_chunk(chunk):\n",
    "    # Convert latitude-longitude to a GeoDataFrame\n",
    "    geometry = [Point(xy) for xy in zip(chunk.lng, chunk.lat)]\n",
    "    latlong_gdf = gpd.GeoDataFrame(chunk, crs=\"EPSG:4326\", geometry=geometry)\n",
    "\n",
    "    # Perform the spatial join\n",
    "    joined_data = gpd.sjoin(latlong_gdf, neighborhoods, how=\"left\", predicate=\"within\")\n",
    "\n",
    "    # Keep only the neighborhood name column from the joined data\n",
    "    chunk['neighborhood'] = joined_data[neighborhood_name_column]\n",
    "\n",
    "    return chunk\n",
    "\n",
    "# Initialize an empty DataFrame to hold the processed data\n",
    "processed_data = pd.DataFrame()\n",
    "\n",
    "# Read the CSV in chunks\n",
    "chunksize = 10000  # Adjust the chunksize based on your system's memory capacity\n",
    "for chunk in pd.read_csv('data/city_stats/uszips.csv.gz', chunksize=chunksize):\n",
    "    processed_chunk = process_chunk(chunk)\n",
    "    processed_data = pd.concat([processed_data, processed_chunk])\n",
    "\n",
    "# Save the processed data to a new CSV file\n",
    "processed_data.to_csv('data/city_stats/enriched_uszips_with_neighborhoods.csv')\n"
   ]
  },
  {
   "cell_type": "code",
   "execution_count": 1,
   "metadata": {},
   "outputs": [],
   "source": [
    "import geopandas as gpd\n",
    "from shapely.geometry import Point\n",
    "import pandas as pd\n",
    "from config import *\n",
    "\n",
    "def tag_neighborhoods(list_of_cities, include_na=True):\n",
    "    processed_data = pd.DataFrame()\n",
    "\n",
    "    for city in list_of_cities:\n",
    "        # Load neighborhood \n",
    "        neighborhoods = gpd.read_file(f'data/{city}/neighbourhoods.geojson')\n",
    "        \n",
    "\n",
    "\n",
    "        # Define a function to process each chunk\n",
    "        def process_chunk(chunk):\n",
    "            # Convert latitude-longitude to a GeoDataFrame\n",
    "            geometry = [Point(xy) for xy in zip(chunk.lng, chunk.lat)]\n",
    "            latlong_gdf = gpd.GeoDataFrame(chunk, crs=\"EPSG:4326\", geometry=geometry)\n",
    "\n",
    "            # Join\n",
    "            joined_data = gpd.sjoin(latlong_gdf, neighborhoods, how=\"left\", predicate=\"within\")\n",
    "\n",
    "            # Keep only the neighborhood name column from the joined data\n",
    "            chunk['neighborhood'] = joined_data['neighbourhood']\n",
    "\n",
    "            return chunk\n",
    "\n",
    "        # Read the CSV in chunks and process\n",
    "        chunksize = 10000  \n",
    "        for chunk in pd.read_csv(f'data/city_stats/uszips.csv.gz', chunksize=chunksize):\n",
    "            processed_chunk = process_chunk(chunk)\n",
    "            # Filter based on include_na flag\n",
    "            if not include_na:\n",
    "                processed_chunk = processed_chunk.dropna(subset=['neighborhood'])\n",
    "            processed_data = pd.concat([processed_data, processed_chunk])\n",
    "\n",
    "    return processed_data"
   ]
  },
  {
   "cell_type": "code",
   "execution_count": 2,
   "metadata": {},
   "outputs": [
    {
     "name": "stderr",
     "output_type": "stream",
     "text": [
      "/var/folders/bj/6vmxzyc10bl0w0z6d16ghc9c0000gn/T/ipykernel_22286/2334401059.py:32: DtypeWarning: Columns (90) have mixed types. Specify dtype option on import or set low_memory=False.\n",
      "  for chunk in pd.read_csv(f'data/city_stats/uszips.csv.gz', chunksize=chunksize):\n",
      "/var/folders/bj/6vmxzyc10bl0w0z6d16ghc9c0000gn/T/ipykernel_22286/2334401059.py:32: DtypeWarning: Columns (90) have mixed types. Specify dtype option on import or set low_memory=False.\n",
      "  for chunk in pd.read_csv(f'data/city_stats/uszips.csv.gz', chunksize=chunksize):\n",
      "/var/folders/bj/6vmxzyc10bl0w0z6d16ghc9c0000gn/T/ipykernel_22286/2334401059.py:32: DtypeWarning: Columns (90) have mixed types. Specify dtype option on import or set low_memory=False.\n",
      "  for chunk in pd.read_csv(f'data/city_stats/uszips.csv.gz', chunksize=chunksize):\n",
      "/var/folders/bj/6vmxzyc10bl0w0z6d16ghc9c0000gn/T/ipykernel_22286/2334401059.py:32: DtypeWarning: Columns (90) have mixed types. Specify dtype option on import or set low_memory=False.\n",
      "  for chunk in pd.read_csv(f'data/city_stats/uszips.csv.gz', chunksize=chunksize):\n",
      "/var/folders/bj/6vmxzyc10bl0w0z6d16ghc9c0000gn/T/ipykernel_22286/2334401059.py:32: DtypeWarning: Columns (90) have mixed types. Specify dtype option on import or set low_memory=False.\n",
      "  for chunk in pd.read_csv(f'data/city_stats/uszips.csv.gz', chunksize=chunksize):\n",
      "/var/folders/bj/6vmxzyc10bl0w0z6d16ghc9c0000gn/T/ipykernel_22286/2334401059.py:32: DtypeWarning: Columns (90) have mixed types. Specify dtype option on import or set low_memory=False.\n",
      "  for chunk in pd.read_csv(f'data/city_stats/uszips.csv.gz', chunksize=chunksize):\n",
      "/var/folders/bj/6vmxzyc10bl0w0z6d16ghc9c0000gn/T/ipykernel_22286/2334401059.py:32: DtypeWarning: Columns (90) have mixed types. Specify dtype option on import or set low_memory=False.\n",
      "  for chunk in pd.read_csv(f'data/city_stats/uszips.csv.gz', chunksize=chunksize):\n",
      "/var/folders/bj/6vmxzyc10bl0w0z6d16ghc9c0000gn/T/ipykernel_22286/2334401059.py:32: DtypeWarning: Columns (90) have mixed types. Specify dtype option on import or set low_memory=False.\n",
      "  for chunk in pd.read_csv(f'data/city_stats/uszips.csv.gz', chunksize=chunksize):\n",
      "/var/folders/bj/6vmxzyc10bl0w0z6d16ghc9c0000gn/T/ipykernel_22286/2334401059.py:32: DtypeWarning: Columns (90) have mixed types. Specify dtype option on import or set low_memory=False.\n",
      "  for chunk in pd.read_csv(f'data/city_stats/uszips.csv.gz', chunksize=chunksize):\n",
      "/var/folders/bj/6vmxzyc10bl0w0z6d16ghc9c0000gn/T/ipykernel_22286/2334401059.py:32: DtypeWarning: Columns (90) have mixed types. Specify dtype option on import or set low_memory=False.\n",
      "  for chunk in pd.read_csv(f'data/city_stats/uszips.csv.gz', chunksize=chunksize):\n",
      "/var/folders/bj/6vmxzyc10bl0w0z6d16ghc9c0000gn/T/ipykernel_22286/2334401059.py:32: DtypeWarning: Columns (90) have mixed types. Specify dtype option on import or set low_memory=False.\n",
      "  for chunk in pd.read_csv(f'data/city_stats/uszips.csv.gz', chunksize=chunksize):\n",
      "/var/folders/bj/6vmxzyc10bl0w0z6d16ghc9c0000gn/T/ipykernel_22286/2334401059.py:32: DtypeWarning: Columns (90) have mixed types. Specify dtype option on import or set low_memory=False.\n",
      "  for chunk in pd.read_csv(f'data/city_stats/uszips.csv.gz', chunksize=chunksize):\n",
      "/var/folders/bj/6vmxzyc10bl0w0z6d16ghc9c0000gn/T/ipykernel_22286/2334401059.py:32: DtypeWarning: Columns (90) have mixed types. Specify dtype option on import or set low_memory=False.\n",
      "  for chunk in pd.read_csv(f'data/city_stats/uszips.csv.gz', chunksize=chunksize):\n",
      "/var/folders/bj/6vmxzyc10bl0w0z6d16ghc9c0000gn/T/ipykernel_22286/2334401059.py:32: DtypeWarning: Columns (90) have mixed types. Specify dtype option on import or set low_memory=False.\n",
      "  for chunk in pd.read_csv(f'data/city_stats/uszips.csv.gz', chunksize=chunksize):\n",
      "/var/folders/bj/6vmxzyc10bl0w0z6d16ghc9c0000gn/T/ipykernel_22286/2334401059.py:32: DtypeWarning: Columns (90) have mixed types. Specify dtype option on import or set low_memory=False.\n",
      "  for chunk in pd.read_csv(f'data/city_stats/uszips.csv.gz', chunksize=chunksize):\n",
      "/var/folders/bj/6vmxzyc10bl0w0z6d16ghc9c0000gn/T/ipykernel_22286/2334401059.py:32: DtypeWarning: Columns (90) have mixed types. Specify dtype option on import or set low_memory=False.\n",
      "  for chunk in pd.read_csv(f'data/city_stats/uszips.csv.gz', chunksize=chunksize):\n",
      "/var/folders/bj/6vmxzyc10bl0w0z6d16ghc9c0000gn/T/ipykernel_22286/2334401059.py:32: DtypeWarning: Columns (90) have mixed types. Specify dtype option on import or set low_memory=False.\n",
      "  for chunk in pd.read_csv(f'data/city_stats/uszips.csv.gz', chunksize=chunksize):\n",
      "/var/folders/bj/6vmxzyc10bl0w0z6d16ghc9c0000gn/T/ipykernel_22286/2334401059.py:32: DtypeWarning: Columns (90) have mixed types. Specify dtype option on import or set low_memory=False.\n",
      "  for chunk in pd.read_csv(f'data/city_stats/uszips.csv.gz', chunksize=chunksize):\n",
      "/var/folders/bj/6vmxzyc10bl0w0z6d16ghc9c0000gn/T/ipykernel_22286/2334401059.py:23: UserWarning: CRS mismatch between the CRS of left geometries and the CRS of right geometries.\n",
      "Use `to_crs()` to reproject one of the input geometries to match the CRS of the other.\n",
      "\n",
      "Left CRS: EPSG:4326\n",
      "Right CRS: EPSG:4979\n",
      "\n",
      "  joined_data = gpd.sjoin(latlong_gdf, neighborhoods, how=\"left\", predicate=\"within\")\n",
      "/var/folders/bj/6vmxzyc10bl0w0z6d16ghc9c0000gn/T/ipykernel_22286/2334401059.py:23: UserWarning: CRS mismatch between the CRS of left geometries and the CRS of right geometries.\n",
      "Use `to_crs()` to reproject one of the input geometries to match the CRS of the other.\n",
      "\n",
      "Left CRS: EPSG:4326\n",
      "Right CRS: EPSG:4979\n",
      "\n",
      "  joined_data = gpd.sjoin(latlong_gdf, neighborhoods, how=\"left\", predicate=\"within\")\n",
      "/var/folders/bj/6vmxzyc10bl0w0z6d16ghc9c0000gn/T/ipykernel_22286/2334401059.py:32: DtypeWarning: Columns (90) have mixed types. Specify dtype option on import or set low_memory=False.\n",
      "  for chunk in pd.read_csv(f'data/city_stats/uszips.csv.gz', chunksize=chunksize):\n",
      "/var/folders/bj/6vmxzyc10bl0w0z6d16ghc9c0000gn/T/ipykernel_22286/2334401059.py:23: UserWarning: CRS mismatch between the CRS of left geometries and the CRS of right geometries.\n",
      "Use `to_crs()` to reproject one of the input geometries to match the CRS of the other.\n",
      "\n",
      "Left CRS: EPSG:4326\n",
      "Right CRS: EPSG:4979\n",
      "\n",
      "  joined_data = gpd.sjoin(latlong_gdf, neighborhoods, how=\"left\", predicate=\"within\")\n",
      "/var/folders/bj/6vmxzyc10bl0w0z6d16ghc9c0000gn/T/ipykernel_22286/2334401059.py:23: UserWarning: CRS mismatch between the CRS of left geometries and the CRS of right geometries.\n",
      "Use `to_crs()` to reproject one of the input geometries to match the CRS of the other.\n",
      "\n",
      "Left CRS: EPSG:4326\n",
      "Right CRS: EPSG:4979\n",
      "\n",
      "  joined_data = gpd.sjoin(latlong_gdf, neighborhoods, how=\"left\", predicate=\"within\")\n",
      "/var/folders/bj/6vmxzyc10bl0w0z6d16ghc9c0000gn/T/ipykernel_22286/2334401059.py:23: UserWarning: CRS mismatch between the CRS of left geometries and the CRS of right geometries.\n",
      "Use `to_crs()` to reproject one of the input geometries to match the CRS of the other.\n",
      "\n",
      "Left CRS: EPSG:4326\n",
      "Right CRS: EPSG:4979\n",
      "\n",
      "  joined_data = gpd.sjoin(latlong_gdf, neighborhoods, how=\"left\", predicate=\"within\")\n",
      "/var/folders/bj/6vmxzyc10bl0w0z6d16ghc9c0000gn/T/ipykernel_22286/2334401059.py:32: DtypeWarning: Columns (90) have mixed types. Specify dtype option on import or set low_memory=False.\n",
      "  for chunk in pd.read_csv(f'data/city_stats/uszips.csv.gz', chunksize=chunksize):\n",
      "/var/folders/bj/6vmxzyc10bl0w0z6d16ghc9c0000gn/T/ipykernel_22286/2334401059.py:32: DtypeWarning: Columns (90) have mixed types. Specify dtype option on import or set low_memory=False.\n",
      "  for chunk in pd.read_csv(f'data/city_stats/uszips.csv.gz', chunksize=chunksize):\n",
      "/var/folders/bj/6vmxzyc10bl0w0z6d16ghc9c0000gn/T/ipykernel_22286/2334401059.py:32: DtypeWarning: Columns (90) have mixed types. Specify dtype option on import or set low_memory=False.\n",
      "  for chunk in pd.read_csv(f'data/city_stats/uszips.csv.gz', chunksize=chunksize):\n",
      "/var/folders/bj/6vmxzyc10bl0w0z6d16ghc9c0000gn/T/ipykernel_22286/2334401059.py:32: DtypeWarning: Columns (90) have mixed types. Specify dtype option on import or set low_memory=False.\n",
      "  for chunk in pd.read_csv(f'data/city_stats/uszips.csv.gz', chunksize=chunksize):\n",
      "/var/folders/bj/6vmxzyc10bl0w0z6d16ghc9c0000gn/T/ipykernel_22286/2334401059.py:32: DtypeWarning: Columns (90) have mixed types. Specify dtype option on import or set low_memory=False.\n",
      "  for chunk in pd.read_csv(f'data/city_stats/uszips.csv.gz', chunksize=chunksize):\n",
      "/var/folders/bj/6vmxzyc10bl0w0z6d16ghc9c0000gn/T/ipykernel_22286/2334401059.py:32: DtypeWarning: Columns (90) have mixed types. Specify dtype option on import or set low_memory=False.\n",
      "  for chunk in pd.read_csv(f'data/city_stats/uszips.csv.gz', chunksize=chunksize):\n",
      "/var/folders/bj/6vmxzyc10bl0w0z6d16ghc9c0000gn/T/ipykernel_22286/2334401059.py:32: DtypeWarning: Columns (90) have mixed types. Specify dtype option on import or set low_memory=False.\n",
      "  for chunk in pd.read_csv(f'data/city_stats/uszips.csv.gz', chunksize=chunksize):\n",
      "/var/folders/bj/6vmxzyc10bl0w0z6d16ghc9c0000gn/T/ipykernel_22286/2334401059.py:32: DtypeWarning: Columns (90) have mixed types. Specify dtype option on import or set low_memory=False.\n",
      "  for chunk in pd.read_csv(f'data/city_stats/uszips.csv.gz', chunksize=chunksize):\n"
     ]
    }
   ],
   "source": [
    "df = tag_neighborhoods(list_of_cities, include_na=True)"
   ]
  },
  {
   "cell_type": "code",
   "execution_count": null,
   "metadata": {},
   "outputs": [],
   "source": []
  }
 ],
 "metadata": {
  "hide_input": false,
  "kernelspec": {
   "display_name": "Python 3",
   "language": "python",
   "name": "python3"
  },
  "language_info": {
   "codemirror_mode": {
    "name": "ipython",
    "version": 3
   },
   "file_extension": ".py",
   "mimetype": "text/x-python",
   "name": "python",
   "nbconvert_exporter": "python",
   "pygments_lexer": "ipython3",
   "version": "3.9.6"
  },
  "varInspector": {
   "cols": {
    "lenName": 16,
    "lenType": 16,
    "lenVar": 40
   },
   "kernels_config": {
    "python": {
     "delete_cmd_postfix": "",
     "delete_cmd_prefix": "del ",
     "library": "var_list.py",
     "varRefreshCmd": "print(var_dic_list())"
    },
    "r": {
     "delete_cmd_postfix": ") ",
     "delete_cmd_prefix": "rm(",
     "library": "var_list.r",
     "varRefreshCmd": "cat(var_dic_list()) "
    }
   },
   "types_to_exclude": [
    "module",
    "function",
    "builtin_function_or_method",
    "instance",
    "_Feature"
   ],
   "window_display": false
  }
 },
 "nbformat": 4,
 "nbformat_minor": 2
}
