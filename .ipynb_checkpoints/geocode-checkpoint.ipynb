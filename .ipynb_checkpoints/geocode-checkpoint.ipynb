{
 "cells": [
  {
   "cell_type": "code",
   "execution_count": 2,
   "metadata": {},
   "outputs": [],
   "source": [
    "import geopandas as gpd\n",
    "from shapely.geometry import Point\n",
    "import pandas as pd\n",
    "\n",
    "# Load neighborhood polygons from GeoJSON\n",
    "neighborhoods = gpd.read_file('data/austin/neighbourhoods.geojson')\n",
    "\n",
    "\n",
    "\n"
   ]
  },
  {
   "cell_type": "code",
   "execution_count": 3,
   "metadata": {},
   "outputs": [],
   "source": [
    "# Load your latitude-longitude data\n",
    "# Assuming this is a CSV file with columns 'latitude' and '\n",
    "# longitude'\n",
    "uszips= pd.read_csv('data/city_stats/uszips.csv.gz')"
   ]
  },
  {
   "cell_type": "code",
   "execution_count": 4,
   "metadata": {},
   "outputs": [
    {
     "data": {
      "text/plain": [
       "Index(['zip', 'lat', 'lng', 'city', 'state_id', 'state_name', 'zcta',\n",
       "       'parent_zcta', 'population', 'density', 'county_fips', 'county_name',\n",
       "       'county_weights', 'county_names_all', 'county_fips_all', 'imprecise',\n",
       "       'military', 'timezone', 'age_median', 'age_under_10', 'age_10_to_19',\n",
       "       'age_20s', 'age_30s', 'age_40s', 'age_50s', 'age_60s', 'age_70s',\n",
       "       'age_over_80', 'age_over_65', 'age_18_to_24', 'age_over_18', 'male',\n",
       "       'female', 'married', 'divorced', 'never_married', 'widowed',\n",
       "       'family_size', 'family_dual_income', 'income_household_median',\n",
       "       'income_household_under_5', 'income_household_5_to_10',\n",
       "       'income_household_10_to_15', 'income_household_15_to_20',\n",
       "       'income_household_20_to_25', 'income_household_25_to_35',\n",
       "       'income_household_35_to_50', 'income_household_50_to_75',\n",
       "       'income_household_75_to_100', 'income_household_100_to_150',\n",
       "       'income_household_150_over', 'income_household_six_figure',\n",
       "       'income_individual_median', 'home_ownership', 'housing_units',\n",
       "       'home_value', 'rent_median', 'rent_burden', 'education_less_highschool',\n",
       "       'education_highschool', 'education_some_college', 'education_bachelors',\n",
       "       'education_graduate', 'education_college_or_above',\n",
       "       'education_stem_degree', 'labor_force_participation',\n",
       "       'unemployment_rate', 'self_employed', 'farmer', 'race_white',\n",
       "       'race_black', 'race_asian', 'race_native', 'race_pacific', 'race_other',\n",
       "       'race_multiple', 'hispanic', 'disabled', 'poverty', 'limited_english',\n",
       "       'commute_time', 'health_uninsured', 'veteran', 'charitable_givers',\n",
       "       'cbsa_fips', 'cbsa_name', 'cbsa_metro', 'csa_fips', 'csa_name',\n",
       "       'metdiv_fips', 'metdiv_name'],\n",
       "      dtype='object')"
      ]
     },
     "execution_count": 4,
     "metadata": {},
     "output_type": "execute_result"
    }
   ],
   "source": [
    "uszips.columns"
   ]
  },
  {
   "cell_type": "code",
   "execution_count": 5,
   "metadata": {},
   "outputs": [],
   "source": [
    "# Load your latitude-longitude data\n",
    "# Assuming this is a CSV file with columns 'latitude' and '\n",
    "# longitude'\n",
    "\n",
    "\n",
    "# Convert latitude-longitude to a GeoDataFrame\n",
    "geometry = [Point(xy) for xy in zip(uszips.lng, uszips.lat)]\n",
    "latlong_gdf = gpd.GeoDataFrame(uszips, crs=\"EPSG:4326\", geometry=geometry)"
   ]
  },
  {
   "cell_type": "code",
   "execution_count": null,
   "metadata": {},
   "outputs": [
    {
     "name": "stderr",
     "output_type": "stream",
     "text": [
      "/Users/alexmoura/opt/anaconda3/lib/python3.7/site-packages/IPython/core/interactiveshell.py:3254: FutureWarning: The `op` parameter is deprecated and will be removed in a future release. Please use the `predicate` parameter instead.\n",
      "  if (await self.run_code(code, result,  async_=asy)):\n"
     ]
    }
   ],
   "source": [
    "# Perform the spatial join\n",
    "joined_data = gpd.sjoin(latlong_gdf, neighborhoods, how=\"left\", op=\"within\")"
   ]
  },
  {
   "cell_type": "code",
   "execution_count": null,
   "metadata": {},
   "outputs": [
    {
     "name": "stderr",
     "output_type": "stream",
     "text": [
      "/Users/alexmoura/opt/anaconda3/lib/python3.7/site-packages/IPython/core/interactiveshell.py:3254: FutureWarning: The `op` parameter is deprecated and will be removed in a future release. Please use the `predicate` parameter instead.\n",
      "  if (await self.run_code(code, result,  async_=asy)):\n"
     ]
    }
   ],
   "source": [
    "# The joined_data now has information about the neighborhoods\n",
    "# You can now save this DataFrame\n",
    "joined_data.to_csv('path_to_save_enriched_data.csv')"
   ]
  },
  {
   "cell_type": "code",
   "execution_count": null,
   "metadata": {},
   "outputs": [],
   "source": []
  }
 ],
 "metadata": {
  "hide_input": false,
  "kernelspec": {
   "display_name": "Python 3",
   "language": "python",
   "name": "python3"
  },
  "language_info": {
   "codemirror_mode": {
    "name": "ipython",
    "version": 3
   },
   "file_extension": ".py",
   "mimetype": "text/x-python",
   "name": "python",
   "nbconvert_exporter": "python",
   "pygments_lexer": "ipython3",
   "version": "3.7.6"
  },
  "varInspector": {
   "cols": {
    "lenName": 16,
    "lenType": 16,
    "lenVar": 40
   },
   "kernels_config": {
    "python": {
     "delete_cmd_postfix": "",
     "delete_cmd_prefix": "del ",
     "library": "var_list.py",
     "varRefreshCmd": "print(var_dic_list())"
    },
    "r": {
     "delete_cmd_postfix": ") ",
     "delete_cmd_prefix": "rm(",
     "library": "var_list.r",
     "varRefreshCmd": "cat(var_dic_list()) "
    }
   },
   "types_to_exclude": [
    "module",
    "function",
    "builtin_function_or_method",
    "instance",
    "_Feature"
   ],
   "window_display": false
  }
 },
 "nbformat": 4,
 "nbformat_minor": 2
}
